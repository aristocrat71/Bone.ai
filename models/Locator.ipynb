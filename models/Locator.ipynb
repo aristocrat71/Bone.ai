{
  "nbformat": 4,
  "nbformat_minor": 0,
  "metadata": {
    "colab": {
      "provenance": [],
      "mount_file_id": "1pCEQhlGpzZiuuR2PusjPVSYhNQWa92mO",
      "authorship_tag": "ABX9TyN3xPMVPeeLe4dFu7xMV5an",
      "include_colab_link": true
    },
    "kernelspec": {
      "name": "python3",
      "display_name": "Python 3"
    },
    "language_info": {
      "name": "python"
    }
  },
  "cells": [
    {
      "cell_type": "markdown",
      "metadata": {
        "id": "view-in-github",
        "colab_type": "text"
      },
      "source": [
        "<a href=\"https://colab.research.google.com/github/aristocrat71/Bone.ai/blob/main/models/Locator.ipynb\" target=\"_parent\"><img src=\"https://colab.research.google.com/assets/colab-badge.svg\" alt=\"Open In Colab\"/></a>"
      ]
    },
    {
      "cell_type": "code",
      "execution_count": 1,
      "metadata": {
        "id": "8_TbM-Fp4xcj"
      },
      "outputs": [],
      "source": [
        "import pandas as pd\n",
        "import numpy as np\n",
        "import matplotlib.pyplot as plt\n",
        "import seaborn as sns\n",
        "import warnings\n",
        "warnings.filterwarnings('ignore')"
      ]
    },
    {
      "cell_type": "code",
      "source": [
        "from google.colab import drive\n",
        "drive.mount('/content/drive')"
      ],
      "metadata": {
        "colab": {
          "base_uri": "https://localhost:8080/"
        },
        "id": "wlfuPtZw462-",
        "outputId": "97ec212d-95f4-4199-a1bc-cfff98cc0cef"
      },
      "execution_count": null,
      "outputs": [
        {
          "output_type": "stream",
          "name": "stdout",
          "text": [
            "Test\n"
          ]
        }
      ]
    },
    {
      "cell_type": "code",
      "source": [
        "import shutil\n",
        "import os\n",
        "\n",
        "# Create the Kaggle directory if it doesn't exist\n",
        "os.makedirs('/root/.kaggle', exist_ok=True)\n",
        "\n",
        "# Copy kaggle.json from Drive to the Kaggle directory\n",
        "shutil.copy('/content/drive/My Drive/boneai/kaggle.json', '/root/.kaggle/')"
      ],
      "metadata": {
        "id": "d05Fp5yR5hlC",
        "colab": {
          "base_uri": "https://localhost:8080/",
          "height": 36
        },
        "outputId": "d049be99-88f2-47e0-90e9-9b3e783ddddc"
      },
      "execution_count": 2,
      "outputs": [
        {
          "output_type": "execute_result",
          "data": {
            "text/plain": [
              "'/root/.kaggle/kaggle.json'"
            ],
            "application/vnd.google.colaboratory.intrinsic+json": {
              "type": "string"
            }
          },
          "metadata": {},
          "execution_count": 2
        }
      ]
    },
    {
      "cell_type": "code",
      "source": [
        "os.chmod('/root/.kaggle/kaggle.json', 600)"
      ],
      "metadata": {
        "id": "6Frv6Y37ymBn"
      },
      "execution_count": 3,
      "outputs": []
    },
    {
      "cell_type": "code",
      "source": [
        "!kaggle datasets download -d pkdarabi/bone-fracture-detection-computer-vision-project"
      ],
      "metadata": {
        "colab": {
          "base_uri": "https://localhost:8080/"
        },
        "id": "wY3IkZLWyond",
        "outputId": "d1515821-7eba-41d6-ba50-53efe668bc5b"
      },
      "execution_count": 4,
      "outputs": [
        {
          "output_type": "stream",
          "name": "stdout",
          "text": [
            "Dataset URL: https://www.kaggle.com/datasets/pkdarabi/bone-fracture-detection-computer-vision-project\n",
            "License(s): Attribution 4.0 International (CC BY 4.0)\n"
          ]
        }
      ]
    },
    {
      "cell_type": "code",
      "source": [
        "!rm -rf bone_fracture_data\n",
        "\n",
        "import zipfile\n",
        "\n",
        "with zipfile.ZipFile(\"bone-fracture-detection-computer-vision-project.zip\", 'r') as zip_ref:\n",
        "    zip_ref.extractall(\"bone_fracture_data\")"
      ],
      "metadata": {
        "id": "vWhmqprJyq35"
      },
      "execution_count": 14,
      "outputs": []
    },
    {
      "cell_type": "code",
      "source": [
        "!ls"
      ],
      "metadata": {
        "colab": {
          "base_uri": "https://localhost:8080/"
        },
        "id": "kXNBrp5pyvOA",
        "outputId": "aca98e85-363a-4e7d-a8cd-f07a8eefd931"
      },
      "execution_count": 15,
      "outputs": [
        {
          "output_type": "stream",
          "name": "stdout",
          "text": [
            "bone_fracture_data  bone-fracture-detection-computer-vision-project.zip  drive\tsample_data\n"
          ]
        }
      ]
    },
    {
      "cell_type": "code",
      "source": [
        "!pwd"
      ],
      "metadata": {
        "colab": {
          "base_uri": "https://localhost:8080/"
        },
        "id": "K8x-ZkpBy44P",
        "outputId": "ed87f7ba-deec-4b8a-8275-5d1a69fa3df2"
      },
      "execution_count": 16,
      "outputs": [
        {
          "output_type": "stream",
          "name": "stdout",
          "text": [
            "/content\n"
          ]
        }
      ]
    },
    {
      "cell_type": "code",
      "source": [
        "!cd bone_fracture_data"
      ],
      "metadata": {
        "id": "I9rn1yhz0MmW"
      },
      "execution_count": 18,
      "outputs": []
    },
    {
      "cell_type": "code",
      "source": [],
      "metadata": {
        "id": "p5MSOjy80KUL"
      },
      "execution_count": null,
      "outputs": []
    }
  ]
}